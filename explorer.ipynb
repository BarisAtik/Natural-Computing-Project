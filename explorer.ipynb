{
 "cells": [
  {
   "cell_type": "code",
   "execution_count": null,
   "metadata": {},
   "outputs": [],
   "source": [
    "import scripts.framework as fr\n",
    "import scripts.headrpp_alg as headrpp"
   ]
  },
  {
   "cell_type": "code",
   "execution_count": null,
   "metadata": {},
   "outputs": [],
   "source": [
    "repr_sp = fr.Representation(\"./data/nodes_sp.csv\", \"./data/edges_sp.csv\", maptype=\"sp\")\n",
    "repr_sp.plot_map(plot_nodes=True)\n",
    "\n",
    "repr_nl = fr.Representation(\"./data/nodes_nl.csv\", \"./data/edges_nl.csv\", maptype=\"nl\")\n",
    "repr_nl.plot_map(plot_nodes=True)"
   ]
  },
  {
   "cell_type": "code",
   "execution_count": null,
   "metadata": {},
   "outputs": [],
   "source": [
    "import scripts.dijkstra_alg as dijsktra\n",
    "\n",
    "alg = dijsktra.DIJKSTRA(repr_sp, 22, 434)\n",
    "route, cost = alg.run_algorithm(show_results=True)"
   ]
  },
  {
   "cell_type": "code",
   "execution_count": null,
   "metadata": {},
   "outputs": [],
   "source": [
    "nr_generations = 200\n",
    "\n",
    "pop_size_sg = 50\n",
    "alg = headrpp.HEADRPP(repr_sp, nr_generations, 22, 434, pop_size_sg)\n",
    "routes, avg_fitness, best_fitness = alg.run_algorithm(show_results=True, save_name=\"images/singapore.png\")\n",
    "repr_sp.plot_map(routes[0], plot_nodes=False)\n",
    "\n",
    "pop_size_nl = 10\n",
    "alg = headrpp.HEADRPP(repr_nl, nr_generations, 0, 110, pop_size_nl)\n",
    "routes, avg_fitness, best_fitness = alg.run_algorithm(show_results=True, save_name=\"images/netherlands.png\")\n",
    "repr_nl.plot_map(routes[0], plot_nodes=False)"
   ]
  },
  {
   "cell_type": "code",
   "execution_count": null,
   "metadata": {},
   "outputs": [],
   "source": []
  }
 ],
 "metadata": {
  "kernelspec": {
   "display_name": "Python 3",
   "language": "python",
   "name": "python3"
  },
  "language_info": {
   "codemirror_mode": {
    "name": "ipython",
    "version": 3
   },
   "file_extension": ".py",
   "mimetype": "text/x-python",
   "name": "python",
   "nbconvert_exporter": "python",
   "pygments_lexer": "ipython3",
   "version": "3.10.0"
  }
 },
 "nbformat": 4,
 "nbformat_minor": 2
}
