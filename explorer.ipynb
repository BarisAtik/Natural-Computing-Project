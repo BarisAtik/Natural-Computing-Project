{
 "cells": [
  {
   "cell_type": "code",
   "execution_count": null,
   "metadata": {},
   "outputs": [],
   "source": [
    "import scripts.framework as fr\n",
    "import scripts.headrpp_alg as headrpp\n",
    "import scripts.dijkstra_alg as dijkstra\n",
    "import scripts.nsga2 as nsga2\n",
    "import matplotlib.pyplot as plt"
   ]
  },
  {
   "cell_type": "code",
   "execution_count": null,
   "metadata": {},
   "outputs": [],
   "source": [
    "# Variables\n",
    "start_node_sp = 22\n",
    "end_node_sp = 434\n",
    "start_node_nl = 0\n",
    "end_node_nl = 154"
   ]
  },
  {
   "cell_type": "code",
   "execution_count": null,
   "metadata": {},
   "outputs": [],
   "source": [
    "repr_sp = fr.Representation(\"./data/nodes_sp.csv\", \"./data/edges_sp.csv\", maptype=\"sp\")\n",
    "repr_sp.plot_map(plot_nodes=True)\n",
    "\n",
    "repr_nl = fr.Representation(\"./data/nodes_nl.csv\", \"./data/edges_nl.csv\", maptype=\"nl\")\n",
    "repr_nl.plot_map(plot_nodes=True)"
   ]
  },
  {
   "cell_type": "code",
   "execution_count": null,
   "metadata": {},
   "outputs": [],
   "source": [
    "weights = [1, 0, 0, 0] # distance, traffic, pollution, hotspots\n",
    "\n",
    "alg = dijkstra.DIJKSTRA(repr_sp, start_node_sp, end_node_sp)\n",
    "route, cost = alg.run_algorithm(show_results=True, weights=weights)\n",
    "\n",
    "alg = dijkstra.DIJKSTRA(repr_nl, start_node_nl, end_node_nl)\n",
    "route, cost = alg.run_algorithm(show_results=True, weights=weights)"
   ]
  },
  {
   "cell_type": "code",
   "execution_count": null,
   "metadata": {},
   "outputs": [],
   "source": [
    "nr_generations = 200\n",
    "weights = [1/4, 1/4, 1/4, 1/4] # distance, traffic, pollution, hotspots\n",
    "\n",
    "pop_size_sg = 50\n",
    "alg = headrpp.HEADRPP(repr_sp, nr_generations, start_node_sp, end_node_sp, pop_size_sg, weights, 0.8, 0.3, 2)\n",
    "results = alg.run_algorithm(show_results=False, save_name=\"images/singapore\")\n",
    "repr_sp.plot_map(results[1], plot_nodes=False, show_axes=False)\n",
    "\n",
    "pop_size_nl = 10\n",
    "alg = headrpp.HEADRPP(repr_nl, nr_generations, start_node_nl, end_node_nl, pop_size_nl, weights, 0.8, 0.3, 2)\n",
    "results = alg.run_algorithm(show_results=False, save_name=\"images/netherlands\")\n",
    "repr_nl.plot_map(results[1], plot_nodes=False, show_axes=False)"
   ]
  },
  {
   "cell_type": "code",
   "execution_count": null,
   "metadata": {},
   "outputs": [],
   "source": [
    "nr_generations = 200\n",
    "weights = [1/4, 1/4, 1/4, 1/4] # distance, traffic, pollution, hotspots\n",
    "\n",
    "pop_size_sg = 50\n",
    "alg = nsga2.NSGA2(repr_sp, nr_generations, start_node_sp, end_node_sp, pop_size_sg, weights, 0.8, 0.3, 2)\n",
    "results = alg.run_algorithm(show_results=False, save_name=\"images/singapore\")\n",
    "repr_sp.plot_map(results[1], plot_nodes=False, show_axes=False)\n",
    "\n",
    "pop_size_nl = 10\n",
    "alg = nsga2.NSGA2(repr_nl, nr_generations, start_node_nl, end_node_nl, pop_size_nl, weights, 0.8, 0.3, 2)\n",
    "results = alg.run_algorithm(show_results=False, save_name=\"images/netherlands\")\n",
    "repr_nl.plot_map(results[1], plot_nodes=False, show_axes=False)"
   ]
  },
  {
   "cell_type": "code",
   "execution_count": null,
   "metadata": {},
   "outputs": [],
   "source": [
    "from scripts.comparator import Comparator\n",
    "\n",
    "# Variables\n",
    "pop_size_sp = 50\n",
    "pop_size_nl = 10\n",
    "nr_gen_headrpp = 200\n",
    "nr_gen_nsga2 = 200\n",
    "weights = [1/4, 1/4, 1/4, 1/4]\n",
    "p_crossover = 0.8\n",
    "p_mutation = 0.3\n",
    "group_size = 2\n",
    "\n",
    "comp = Comparator(pop_size_sp, pop_size_nl, nr_gen_headrpp, nr_gen_nsga2, weights, p_crossover, p_mutation, group_size)\n",
    "\n",
    "# Start and end nodes\n",
    "start_node_sp = 22\n",
    "end_node_sp = 434\n",
    "start_node_nl = 0\n",
    "end_node_nl = 154\n",
    "\n",
    "nr_runs = 100\n",
    "comp.run_comparison(nr_runs, start_node_sp, end_node_sp, start_node_nl, end_node_nl)"
   ]
  },
  {
   "cell_type": "markdown",
   "metadata": {},
   "source": [
    "# Single objective comparison HEADRPP, NSGA-II and Dijkstra"
   ]
  },
  {
   "cell_type": "markdown",
   "metadata": {},
   "source": [
    "Make results of different algorithms in one plot + Performance of HEADRPP vs NSGA-II vs Dijkstra when only considering distance/pollution/traffic/hotspots (look at best total distance at end of generation to compare with dijkstra) (hotspots not dijkstra: explain why, but compare for other algorithms)"
   ]
  },
  {
   "cell_type": "code",
   "execution_count": null,
   "metadata": {},
   "outputs": [],
   "source": [
    "def calc_polution(route):\n",
    "    total_polution = 0\n",
    "    for i in range(len(route)-1):\n",
    "        total_polution += repr_sp.nodes[route[i]].pollution\n",
    "    return total_polution\n",
    "\n",
    "def calc_traffic(route):\n",
    "    total_traffic = 0\n",
    "    for i in range(len(route)-1):\n",
    "        total_traffic += repr_sp.nodes[route[i]].traffic\n",
    "    return total_traffic\n",
    "\n",
    "def calc_distance(route):\n",
    "    total_distance = 0\n",
    "    for i in range(len(route)-1):\n",
    "        total_distance += repr_sp.nodes[route[i]].distance\n",
    "    return total_distance\n",
    "\n",
    "def calc_hotspots(route):\n",
    "    total_hotspots = 0\n",
    "    for i in range(len(route)-1):\n",
    "        total_hotspots += repr_sp.nodes[route[i]].hotspots\n",
    "    return total_hotspots"
   ]
  },
  {
   "cell_type": "code",
   "execution_count": null,
   "metadata": {},
   "outputs": [],
   "source": [
    "# Variables\n",
    "pop_size_sp = 50\n",
    "pop_size_nl = 10\n",
    "nr_gen_headrpp = 200\n",
    "nr_gen_nsga2 = 200\n",
    "p_crossover = 0.8\n",
    "p_mutation = 0.3\n",
    "group_size = 2\n",
    "nr_runs = 1\n",
    "\n",
    "# Start and end nodes\n",
    "start_node_sp = 133\n",
    "end_node_sp = 334\n",
    "start_node_nl = 120\n",
    "end_node_nl = 83\n",
    "\n",
    "# Dijkstra initialization\n",
    "dijk = dijkstra.DIJKSTRA(repr_sp, start_node_sp, end_node_sp)\n",
    "\n",
    "weight_combinations = [[1, 0, 0, 0], [0, 1, 0, 0], [0, 0, 1, 0], [0, 0, 0, 1]]\n",
    "weight_names = [\"distance\", \"traffic\", \"pollution\", \"hotspots\"]\n",
    "\n",
    "for i, weights in enumerate(weight_combinations):\n",
    "    nsga_costs = []\n",
    "    headrpp_costs = []\n",
    "    \n",
    "    nsga = nsga2.NSGA2(repr_sp, nr_gen_nsga2, start_node_sp, end_node_sp, pop_size_sp, weights, p_crossover, p_mutation, group_size)\n",
    "    head = headrpp.HEADRPP(repr_sp, nr_gen_headrpp, start_node_sp, end_node_sp, pop_size_sp, weights, p_crossover, p_mutation, group_size)\n",
    "    \n",
    "    for j in range(nr_runs):\n",
    "        nsga_costs.append(nsga.run_algorithm(show_results=False)[2*i+6][-1])\n",
    "        headrpp_costs.append(head.run_algorithm(show_results=False)[2*i+6][-1])\n",
    "        \n",
    "    best_route_dijkstra, avg_best_dijkstra = dijk.run_algorithm(show_results=False, weights=weights)\n",
    "    if i == 0:\n",
    "        # Nothing to do\n",
    "        pass\n",
    "    elif i == 1:\n",
    "        avg_best_dijkstra = calc_traffic(best_route_dijkstra)\n",
    "    elif i == 2:\n",
    "        avg_best_dijkstra = calc_polution(best_route_dijkstra)\n",
    "    elif i == 3:\n",
    "        avg_best_dijkstra = calc_hotspots(best_route_dijkstra)\n",
    "    \n",
    "    # Add Dijkstra costs for nr_runs times to match the length of nsga_costs and headrpp_costs\n",
    "    dijkstra_costs = [avg_best_dijkstra] * nr_runs\n",
    "    \n",
    "    # Plotting results\n",
    "    fig, ax = plt.subplots()\n",
    "    \n",
    "    # Box plot\n",
    "    data = [nsga_costs, headrpp_costs, dijkstra_costs]\n",
    "    ax.boxplot(data, labels=[\"NSGA-II\", \"HEADRPP\", \"Dijkstra\"], showmeans=False)\n",
    "    \n",
    "    ax.set_ylabel(\"Cost\")\n",
    "    ax.set_xlabel(\"Algorithm\")\n",
    "    ax.set_title(f\"Cost Distribution for {weight_names[i]}\")\n",
    "    \n",
    "    # Saving the plot\n",
    "    save_name = \"images/avg_best\"\n",
    "    alg_name = weight_names[i]\n",
    "    plt.savefig(\n",
    "        save_name\n",
    "        + f\"_{alg_name.lower()}_{ax.get_ylabel().split('(')[0][:-1].replace(' ', '_').lower()}.png\"\n",
    "    )\n",
    "    plt.show()"
   ]
  },
  {
   "cell_type": "markdown",
   "metadata": {},
   "source": []
  }
 ],
 "metadata": {
  "kernelspec": {
   "display_name": "Python 3",
   "language": "python",
   "name": "python3"
  },
  "language_info": {
   "codemirror_mode": {
    "name": "ipython",
    "version": 3
   },
   "file_extension": ".py",
   "mimetype": "text/x-python",
   "name": "python",
   "nbconvert_exporter": "python",
   "pygments_lexer": "ipython3",
   "version": "3.9.6"
  }
 },
 "nbformat": 4,
 "nbformat_minor": 2
}
