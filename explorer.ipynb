{
 "cells": [
  {
   "cell_type": "code",
   "execution_count": null,
   "metadata": {},
   "outputs": [],
   "source": [
    "import scripts.framework as fr\n",
    "import scripts.headrpp_alg as headrpp\n",
    "import scripts.dijkstra_alg as dijkstra\n",
    "import scripts.nsga2 as nsga2"
   ]
  },
  {
   "cell_type": "code",
   "execution_count": null,
   "metadata": {},
   "outputs": [],
   "source": [
    "# Variables\n",
    "start_node_sp = 22\n",
    "end_node_sp = 434\n",
    "start_node_nl = 0\n",
    "end_node_nl = 154"
   ]
  },
  {
   "cell_type": "code",
   "execution_count": null,
   "metadata": {},
   "outputs": [],
   "source": [
    "repr_sp = fr.Representation(\"./data/nodes_sp.csv\", \"./data/edges_sp.csv\", maptype=\"sp\")\n",
    "repr_sp.plot_map(plot_nodes=True)\n",
    "\n",
    "repr_nl = fr.Representation(\"./data/nodes_nl.csv\", \"./data/edges_nl.csv\", maptype=\"nl\")\n",
    "repr_nl.plot_map(plot_nodes=True)"
   ]
  },
  {
   "cell_type": "code",
   "execution_count": null,
   "metadata": {},
   "outputs": [],
   "source": [
    "weights = [1, 0, 0, 0] # distance, traffic, pollution, hotspots\n",
    "\n",
    "alg = dijkstra.DIJKSTRA(repr_sp, start_node_sp, end_node_sp)\n",
    "route, cost = alg.run_algorithm(show_results=True, weights=weights)\n",
    "\n",
    "alg = dijkstra.DIJKSTRA(repr_nl, start_node_nl, end_node_nl)\n",
    "route, cost = alg.run_algorithm(show_results=True, weights=weights)"
   ]
  },
  {
   "cell_type": "code",
   "execution_count": null,
   "metadata": {},
   "outputs": [],
   "source": [
    "nr_generations = 200\n",
    "weights = [0, 0, 0, 1] # distance, traffic, pollution, hotspots\n",
    "\n",
    "pop_size_sg = 50\n",
    "alg = headrpp.HEADRPP(repr_sp, nr_generations, start_node_sp, end_node_sp, pop_size_sg, weights, 0.8, 0.3, 2)\n",
    "results = alg.run_algorithm(show_results=False, save_name=\"images/singapore\")\n",
    "repr_sp.plot_map(results[1], plot_nodes=False, show_axes=False)\n",
    "\n",
    "pop_size_nl = 10\n",
    "alg = headrpp.HEADRPP(repr_nl, nr_generations, start_node_nl, end_node_nl, pop_size_nl, weights, 0.8, 0.3, 2)\n",
    "results = alg.run_algorithm(show_results=False, save_name=\"images/netherlands\")\n",
    "repr_nl.plot_map(results[1], plot_nodes=False, show_axes=False)"
   ]
  },
  {
   "cell_type": "code",
   "execution_count": null,
   "metadata": {},
   "outputs": [],
   "source": [
    "nr_generations = 200\n",
    "weights = [0, 0, 0, 1] # distance, traffic, pollution, hotspots\n",
    "\n",
    "pop_size_sg = 50\n",
    "alg = nsga2.NSGA2(repr_sp, nr_generations, start_node_sp, end_node_sp, pop_size_sg, weights, 0.8, 0.3, 2)\n",
    "results = alg.run_algorithm(show_results=False, save_name=\"images/singapore\")\n",
    "repr_sp.plot_map(results[1], plot_nodes=False, show_axes=False)\n",
    "\n",
    "pop_size_nl = 10\n",
    "alg = nsga2.NSGA2(repr_nl, nr_generations, start_node_nl, end_node_nl, pop_size_nl, weights, 0.8, 0.3, 2)\n",
    "results = alg.run_algorithm(show_results=False, save_name=\"images/netherlands\")\n",
    "repr_nl.plot_map(results[1], plot_nodes=False, show_axes=False)"
   ]
  },
  {
   "cell_type": "code",
   "execution_count": null,
   "metadata": {},
   "outputs": [],
   "source": [
    "from scripts.comparator import Comparator\n",
    "\n",
    "# Variables\n",
    "pop_size_sp = 50\n",
    "pop_size_nl = 10\n",
    "nr_gen_headrpp = 200\n",
    "nr_gen_nsga2 = 50\n",
    "weights = [1/4, 1/4, 1/4, 1/4]\n",
    "p_crossover = 0.8\n",
    "p_mutation = 0.3\n",
    "group_size = 2\n",
    "\n",
    "comp = Comparator(pop_size_sp, pop_size_nl, nr_gen_headrpp, nr_gen_nsga2, weights, p_crossover, p_mutation, group_size)\n",
    "\n",
    "# Start and end nodes\n",
    "start_node_sp = 22\n",
    "end_node_sp = 434\n",
    "start_node_nl = 0\n",
    "end_node_nl = 154\n",
    "\n",
    "nr_runs = 100\n",
    "comp.run_comparison(nr_runs, start_node_sp, end_node_sp, start_node_nl, end_node_nl)"
   ]
  }
 ],
 "metadata": {
  "kernelspec": {
   "display_name": "Python 3",
   "language": "python",
   "name": "python3"
  },
  "language_info": {
   "codemirror_mode": {
    "name": "ipython",
    "version": 3
   },
   "file_extension": ".py",
   "mimetype": "text/x-python",
   "name": "python",
   "nbconvert_exporter": "python",
   "pygments_lexer": "ipython3",
   "version": "3.10.11"
  }
 },
 "nbformat": 4,
 "nbformat_minor": 2
}
