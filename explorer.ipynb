{
 "cells": [
  {
   "cell_type": "code",
   "execution_count": null,
   "metadata": {},
   "outputs": [],
   "source": [
    "import scripts.framework as fr\n",
    "import scripts.headrpp_alg as headrpp\n",
    "import scripts.dijkstra_alg as dijkstra\n",
    "import scripts.NSGA2 as nsga2"
   ]
  },
  {
   "cell_type": "code",
   "execution_count": null,
   "metadata": {},
   "outputs": [],
   "source": [
    "repr_sp = fr.Representation(\"./data/nodes_sp.csv\", \"./data/edges_sp.csv\", maptype=\"sp\")\n",
    "repr_sp.plot_map(plot_nodes=True)\n",
    "\n",
    "repr_nl = fr.Representation(\"./data/nodes_nl.csv\", \"./data/edges_nl.csv\", maptype=\"nl\")\n",
    "repr_nl.plot_map(plot_nodes=True)"
   ]
  },
  {
   "cell_type": "code",
   "execution_count": null,
   "metadata": {},
   "outputs": [],
   "source": [
    "weights = [0, 1, 0, 0] # distance, traffic, pollution\n",
    "\n",
    "alg = dijkstra.DIJKSTRA(repr_sp, 22, 434)\n",
    "route, cost = alg.run_algorithm(show_results=True, weights=weights)\n",
    "\n",
    "alg = dijkstra.DIJKSTRA(repr_nl, 0, 110)\n",
    "route, cost = alg.run_algorithm(show_results=True, weights=weights)"
   ]
  },
  {
   "cell_type": "code",
   "execution_count": null,
   "metadata": {},
   "outputs": [],
   "source": [
    "nr_generations = 200\n",
    "weights = [0.3, 0.3, 0.4, 0] # distance, traffic, pollution\n",
    "\n",
    "pop_size_sg = 50\n",
    "alg = headrpp.HEADRPP(repr_sp, nr_generations, 22, 434, pop_size_sg, weights)\n",
    "results = alg.run_algorithm(show_results=True, save_name=\"images/singapore\")\n",
    "repr_sp.plot_map(results[1], plot_nodes=True, show_axes=False)\n",
    "\n",
    "pop_size_nl = 10\n",
    "alg = headrpp.HEADRPP(repr_nl, nr_generations, 0, 110, pop_size_nl, weights)\n",
    "results = alg.run_algorithm(show_results=True, save_name=\"images/netherlands\")\n",
    "repr_nl.plot_map(results[1], plot_nodes=True, show_axes=False)"
   ]
  },
  {
   "cell_type": "code",
   "execution_count": null,
   "metadata": {},
   "outputs": [],
   "source": [
    "nr_generations = 200\n",
    "weights = [0.3, 0.3, 0.4, 0] # distance, traffic, pollution\n",
    "\n",
    "pop_size_sg = 50\n",
    "alg = nsga2.NSGA2(repr_sp, nr_generations, 22, 434, pop_size_sg, weights)\n",
    "results = alg.run_algorithm(show_results=True, save_name=\"images/singapore\")\n",
    "repr_sp.plot_map(results[1], plot_nodes=True, show_axes=False)\n",
    "\n",
    "pop_size_nl = 10\n",
    "alg = nsga2.NSGA2(repr_nl, nr_generations, 0, 110, pop_size_nl, weights)\n",
    "results = alg.run_algorithm(show_results=True, save_name=\"images/netherlands\")\n",
    "repr_nl.plot_map(results[1], plot_nodes=True, show_axes=False)"
   ]
  },
  {
   "cell_type": "code",
   "execution_count": null,
   "metadata": {},
   "outputs": [],
   "source": []
  }
 ],
 "metadata": {
  "kernelspec": {
   "display_name": "Python 3",
   "language": "python",
   "name": "python3"
  },
  "language_info": {
   "codemirror_mode": {
    "name": "ipython",
    "version": 3
   },
   "file_extension": ".py",
   "mimetype": "text/x-python",
   "name": "python",
   "nbconvert_exporter": "python",
   "pygments_lexer": "ipython3",
   "version": "3.10.0"
  }
 },
 "nbformat": 4,
 "nbformat_minor": 2
}
